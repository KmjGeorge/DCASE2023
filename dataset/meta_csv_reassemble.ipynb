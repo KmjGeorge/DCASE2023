{
 "cells": [
  {
   "cell_type": "code",
   "execution_count": 40,
   "id": "b3a68787",
   "metadata": {
    "pycharm": {
     "name": "#%%\n"
    }
   },
   "outputs": [
    {
     "data": {
      "text/html": [
       "<div>\n",
       "<style scoped>\n",
       "    .dataframe tbody tr th:only-of-type {\n",
       "        vertical-align: middle;\n",
       "    }\n",
       "\n",
       "    .dataframe tbody tr th {\n",
       "        vertical-align: top;\n",
       "    }\n",
       "\n",
       "    .dataframe thead th {\n",
       "        text-align: right;\n",
       "    }\n",
       "</style>\n",
       "<table border=\"1\" class=\"dataframe\">\n",
       "  <thead>\n",
       "    <tr style=\"text-align: right;\">\n",
       "      <th></th>\n",
       "      <th>filename</th>\n",
       "      <th>scene_label</th>\n",
       "    </tr>\n",
       "  </thead>\n",
       "  <tbody>\n",
       "    <tr>\n",
       "      <th>0</th>\n",
       "      <td>audio/airport-barcelona-203-6129-0-a.wav</td>\n",
       "      <td>airport</td>\n",
       "    </tr>\n",
       "    <tr>\n",
       "      <th>1</th>\n",
       "      <td>audio/airport-barcelona-203-6129-1-a.wav</td>\n",
       "      <td>airport</td>\n",
       "    </tr>\n",
       "    <tr>\n",
       "      <th>2</th>\n",
       "      <td>audio/airport-barcelona-203-6129-2-a.wav</td>\n",
       "      <td>airport</td>\n",
       "    </tr>\n",
       "    <tr>\n",
       "      <th>3</th>\n",
       "      <td>audio/airport-barcelona-203-6129-3-a.wav</td>\n",
       "      <td>airport</td>\n",
       "    </tr>\n",
       "    <tr>\n",
       "      <th>4</th>\n",
       "      <td>audio/airport-barcelona-203-6129-4-a.wav</td>\n",
       "      <td>airport</td>\n",
       "    </tr>\n",
       "  </tbody>\n",
       "</table>\n",
       "</div>"
      ],
      "text/plain": [
       "                                   filename scene_label\n",
       "0  audio/airport-barcelona-203-6129-0-a.wav     airport\n",
       "1  audio/airport-barcelona-203-6129-1-a.wav     airport\n",
       "2  audio/airport-barcelona-203-6129-2-a.wav     airport\n",
       "3  audio/airport-barcelona-203-6129-3-a.wav     airport\n",
       "4  audio/airport-barcelona-203-6129-4-a.wav     airport"
      ]
     },
     "execution_count": 40,
     "metadata": {},
     "output_type": "execute_result"
    }
   ],
   "source": [
    "import os\n",
    "import pandas as pd\n",
    "import librosa\n",
    "import numpy as np\n",
    "import soundfile as sf\n",
    "\n",
    "load_path = \"G:/datasets/dcase22_task1/TAU-urban-acoustic-scenes-2022-mobile-development/audio/\"\n",
    "\n",
    "meta_csv = \"G:/datasets/dcase22_task1/TAU-urban-acoustic-scenes-2022-mobile-development/meta.csv\"\n",
    "train_csv = \"G:/datasets/dcase22_task1/TAU-urban-acoustic-scenes-2022-mobile-development/evaluation_setup/fold1_train.csv\"\n",
    "test_csv = \"G:/datasets/dcase22_task1/TAU-urban-acoustic-scenes-2022-mobile-development/evaluation_setup/fold1_test.csv\"\n",
    "eva_csv = \"G:/datasets/dcase22_task1/TAU-urban-acoustic-scenes-2022-mobile-development/evaluation_setup/fold1_evaluate.csv\"\n",
    "\n",
    "meta_new = \"G:/datasets/dcase22_task1/dcase22_reassembled/TAU-urban-acoustic-scenes-2022-mobile-development/meta.csv\"\n",
    "train_new = \"G:/datasets/dcase22_task1/dcase22_reassembled/TAU-urban-acoustic-scenes-2022-mobile-development/evaluation_setup/fold1_train.csv\"\n",
    "test_new = \"G:/datasets/dcase22_task1/dcase22_reassembled/TAU-urban-acoustic-scenes-2022-mobile-development/evaluation_setup/fold1_test.csv\"\n",
    "eva_new = \"G:/datasets/dcase22_task1/dcase22_reassembled/TAU-urban-acoustic-scenes-2022-mobile-development/evaluation_setup/fold1_evaluate.csv\"\n",
    "\n",
    "meta = pd.read_csv(eva_csv, sep=\"\\t\")\n",
    "meta.head()\n"
   ]
  },
  {
   "cell_type": "code",
   "execution_count": 41,
   "id": "4d497dfc",
   "metadata": {
    "pycharm": {
     "name": "#%%\n"
    }
   },
   "outputs": [],
   "source": [
    "new_files={}\n",
    "for i, row in meta.iterrows():\n",
    "    arr = row.filename.rsplit(\"-\", 2)\n",
    "    new_files.setdefault(arr[0]+\"-\"+arr[2],[]).append(row.filename)\n"
   ]
  },
  {
   "cell_type": "code",
   "execution_count": 22,
   "id": "a7cff3ae",
   "metadata": {
    "pycharm": {
     "name": "#%%\n"
    }
   },
   "outputs": [],
   "source": [
    "# 处理meta.csv\n",
    "import re\n",
    "filename = []\n",
    "scene_label = []\n",
    "identifier = []\n",
    "source_label = []\n",
    "\n",
    "pattern1 = re.compile(r'audio/[a-z_]*-')\n",
    "pattern2 = re.compile(r'[a-z]*-[0-9]*-')\n",
    "pattern3 = re.compile(r'-[a-zA-Z0-9]*\\.')\n",
    "\n",
    "for key, value in new_files.items():\n",
    "    filename.append(key)\n",
    "    matchStr1 = re.search(pattern1, key)\n",
    "    matchStr2 = re.search(pattern2, key)\n",
    "    matchStr3 = re.search(pattern3, key)\n",
    "    try:\n",
    "        scene_label.append(matchStr1.group().rstrip('-').lstrip('audio').lstrip('/'))\n",
    "        identifier.append(matchStr2.group().rstrip('-'))\n",
    "        source_label.append(matchStr3.group().lstrip('-').rstrip('.'))\n",
    "    except:\n",
    "        print(key)\n",
    "        \n",
    "df = pd.DataFrame({'filename':filename, 'scene_label': scene_label, 'identifier':identifier, 'source_label':source_label})\n",
    "df.to_csv(meta_new,index=False)"
   ]
  },
  {
   "cell_type": "code",
   "execution_count": 42,
   "id": "d5cab9ed",
   "metadata": {
    "pycharm": {
     "name": "#%%\n"
    }
   },
   "outputs": [],
   "source": [
    "# 处理fold1_train.csv  fold1_evaluate.csv\n",
    "import re\n",
    "filename = []\n",
    "scene_label = []\n",
    "identifier = []\n",
    "source_label = []\n",
    "\n",
    "pattern1 = re.compile(r'audio/[a-z_]*-')\n",
    "\n",
    "\n",
    "for key, value in new_files.items():\n",
    "    filename.append(key)\n",
    "    matchStr1 = re.search(pattern1, key)\n",
    "    try:\n",
    "        scene_label.append(matchStr1.group().rstrip('-').lstrip('audio').lstrip('/'))\n",
    "    except:\n",
    "        print(key)\n",
    "        \n",
    "df = pd.DataFrame({'filename':filename, 'scene_label': scene_label})\n",
    "df.to_csv(eva_new,index=False)"
   ]
  },
  {
   "cell_type": "code",
   "execution_count": 38,
   "id": "41ca99e6",
   "metadata": {
    "pycharm": {
     "name": "#%%\n"
    }
   },
   "outputs": [],
   "source": [
    "# 处理fold1_test.csv \n",
    "filename = []\n",
    "for key, value in new_files.items():\n",
    "    filename.append(key)\n",
    "df = pd.DataFrame({'filename':filename})\n",
    "df.to_csv(test_new,index=False)"
   ]
  },
  {
   "cell_type": "code",
   "execution_count": 45,
   "id": "fdc97d58",
   "metadata": {
    "pycharm": {
     "name": "#%%\n"
    }
   },
   "outputs": [
    {
     "data": {
      "text/plain": [
       "0        audio/airport-lisbon-1000-40000-a.wav\n",
       "1        audio/airport-prague-1015-40019-a.wav\n",
       "2        audio/airport-prague-1023-40027-a.wav\n",
       "3        audio/airport-prague-1023-40038-a.wav\n",
       "4        audio/airport-prague-1034-40041-a.wav\n",
       "                         ...                  \n",
       "13957     audio/tram-barcelona-180-5570-s3.wav\n",
       "13958      audio/tram-helsinki-184-5738-s3.wav\n",
       "13959      audio/tram-lisbon-1131-43892-s3.wav\n",
       "13960        audio/tram-london-188-5815-s3.wav\n",
       "13961        audio/tram-lyon-1112-41171-s3.wav\n",
       "Name: filename, Length: 13962, dtype: object"
      ]
     },
     "execution_count": 45,
     "metadata": {},
     "output_type": "execute_result"
    }
   ],
   "source": [
    "import pandas as pd\n",
    "meta_new = pd.read_csv(train_new)\n",
    "# meta_new.head()\n",
    "meta_new['filename']"
   ]
  }
 ],
 "metadata": {
  "kernelspec": {
   "display_name": "dcase22_t1_jupyter",
   "language": "python",
   "name": "dcase22_t1_jupyter"
  },
  "language_info": {
   "codemirror_mode": {
    "name": "ipython",
    "version": 3
   },
   "file_extension": ".py",
   "mimetype": "text/x-python",
   "name": "python",
   "nbconvert_exporter": "python",
   "pygments_lexer": "ipython3",
   "version": "3.7.10"
  }
 },
 "nbformat": 4,
 "nbformat_minor": 5
}