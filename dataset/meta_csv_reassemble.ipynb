{
 "cells": [
  {
   "cell_type": "code",
   "execution_count": 1,
   "id": "11c9304e",
   "metadata": {
    "pycharm": {
     "name": "#%%\n"
    }
   },
   "outputs": [],
   "source": [
    "import os\n",
    "import pandas as pd\n",
    "\n",
    "meta_csv = \"G:/datasets/TAU-urban-acoustic-scenes-2022-mobile-development/meta.csv\"\n",
    "train_csv = \"G:/datasets/TAU-urban-acoustic-scenes-2022-mobile-development/evaluation_setup/fold1_train.csv\"\n",
    "test_csv = \"G:/datasets/TAU-urban-acoustic-scenes-2022-mobile-development/evaluation_setup/fold1_test.csv\"\n",
    "eva_csv = \"G:/datasets/TAU-urban-acoustic-scenes-2022-mobile-development/evaluation_setup/fold1_evaluate.csv\"\n",
    "\n",
    "meta_new = \"G:/datasets/TAU-urban-acoustic-scenes-2022-mobile-development-reassembled/meta.csv\"\n",
    "train_new = \"G:/datasets/TAU-urban-acoustic-scenes-2022-mobile-development-reassembled/evaluation_setup/fold1_train.csv\"\n",
    "test_new = \"G:/datasets/TAU-urban-acoustic-scenes-2022-mobile-development-reassembled/evaluation_setup/fold1_test.csv\"\n",
    "eva_new = \"G:/datasets/TAU-urban-acoustic-scenes-2022-mobile-development-reassembled/evaluation_setup/fold1_evaluate.csv\""
   ]
  },
  {
   "cell_type": "code",
   "execution_count": 4,
   "id": "b41f2331",
   "metadata": {
    "pycharm": {
     "name": "#%%\n"
    }
   },
   "outputs": [],
   "source": [
    "# 处理meta.csv，合成10s音频对应的meta_new\n",
    "meta = pd.read_csv(meta_csv, sep=\"\\t\")\n",
    "meta.head()\n",
    "new_files={}\n",
    "for i, row in meta.iterrows():\n",
    "    arr = row.filename.rsplit(\"-\", 2)\n",
    "    new_files.setdefault(arr[0]+\"-\"+arr[2],[]).append(row.filename)\n",
    "\n",
    "import re\n",
    "filename = []\n",
    "scene_label = []\n",
    "identifier = []\n",
    "source_label = []\n",
    "\n",
    "pattern1 = re.compile(r'audio/[a-z_]*-')\n",
    "pattern2 = re.compile(r'[a-z]*-[0-9]*-')\n",
    "pattern3 = re.compile(r'-[a-zA-Z0-9]*\\.')\n",
    "\n",
    "for key, value in new_files.items():\n",
    "    filename.append(key)\n",
    "    matchStr1 = re.search(pattern1, key)\n",
    "    matchStr2 = re.search(pattern2, key)\n",
    "    matchStr3 = re.search(pattern3, key)\n",
    "    try:\n",
    "        scene_label.append(matchStr1.group().rstrip('-').lstrip('audio').lstrip('/'))\n",
    "        identifier.append(matchStr2.group().rstrip('-'))\n",
    "        source_label.append(matchStr3.group().lstrip('-').rstrip('.'))\n",
    "    except:\n",
    "        print(key)\n",
    "        \n",
    "df = pd.DataFrame({'filename':filename, 'scene_label': scene_label, 'identifier':identifier, 'source_label':source_label})\n",
    "df.to_csv(meta_new,index=False)"
   ]
  },
  {
   "cell_type": "code",
   "execution_count": 3,
   "id": "f7c40e13",
   "metadata": {
    "pycharm": {
     "name": "#%%\n"
    }
   },
   "outputs": [],
   "source": [
    "# 处理fold1_train.csv  或 fold1_eva.csv\n",
    "eva = pd.read_csv(eva_csv, sep=\"\\t\")\n",
    "# os.mkdir(os.path.join(os.path.split(meta_new)[0], 'evaluation_setup'))\n",
    "eva.head()\n",
    "new_files={}\n",
    "for i, row in eva.iterrows():\n",
    "    arr = row.filename.rsplit(\"-\", 2)\n",
    "    new_files.setdefault(arr[0]+\"-\"+arr[2],[]).append(row.filename)\n",
    "\n",
    "import re\n",
    "filename = []\n",
    "scene_label = []\n",
    "identifier = []\n",
    "source_label = []\n",
    "\n",
    "pattern1 = re.compile(r'audio/[a-z_]*-')\n",
    "\n",
    "for key, value in new_files.items():\n",
    "    filename.append(key)\n",
    "    matchStr1 = re.search(pattern1, key)\n",
    "    try:\n",
    "        scene_label.append(matchStr1.group().rstrip('-').lstrip('audio').lstrip('/'))\n",
    "    except:\n",
    "        print(key)\n",
    "        \n",
    "df = pd.DataFrame({'filename':filename, 'scene_label': scene_label})\n",
    "df.to_csv(eva_new,index=False)"
   ]
  },
  {
   "cell_type": "code",
   "execution_count": 5,
   "id": "b699c867",
   "metadata": {
    "pycharm": {
     "name": "#%%\n"
    }
   },
   "outputs": [],
   "source": [
    "# 处理fold1_test.csv \n",
    "test = eva = pd.read_csv(test_csv, sep=\"\\t\")\n",
    "for i, row in test.iterrows():\n",
    "    arr = row.filename.rsplit(\"-\", 2)\n",
    "    new_files.setdefault(arr[0]+\"-\"+arr[2],[]).append(row.filename)\n",
    "    \n",
    "for key, value in new_files.items():\n",
    "    filename.append(key)\n",
    "\n",
    "df = pd.DataFrame({'filename':filename})\n",
    "df.to_csv(test_new,index=False)"
   ]
  },
  {
   "cell_type": "code",
   "execution_count": 6,
   "id": "fdc97d58",
   "metadata": {
    "pycharm": {
     "name": "#%%\n"
    }
   },
   "outputs": [
    {
     "data": {
      "text/plain": [
       "0        audio/airport-lisbon-1000-40000-a.wav\n",
       "1        audio/airport-prague-1015-40019-a.wav\n",
       "2        audio/airport-prague-1023-40027-a.wav\n",
       "3        audio/airport-prague-1023-40038-a.wav\n",
       "4        audio/airport-prague-1034-40041-a.wav\n",
       "                         ...                  \n",
       "13957     audio/tram-barcelona-180-5570-s3.wav\n",
       "13958      audio/tram-helsinki-184-5738-s3.wav\n",
       "13959      audio/tram-lisbon-1131-43892-s3.wav\n",
       "13960        audio/tram-london-188-5815-s3.wav\n",
       "13961        audio/tram-lyon-1112-41171-s3.wav\n",
       "Name: filename, Length: 13962, dtype: object"
      ]
     },
     "execution_count": 6,
     "metadata": {},
     "output_type": "execute_result"
    }
   ],
   "source": [
    "import pandas as pd\n",
    "new = pd.read_csv(meta_new)\n",
    "new['filename']"
   ]
  }
 ],
 "metadata": {
  "kernelspec": {
   "display_name": "py39",
   "language": "python",
   "name": "py39"
  },
  "language_info": {
   "codemirror_mode": {
    "name": "ipython",
    "version": 3
   },
   "file_extension": ".py",
   "mimetype": "text/x-python",
   "name": "python",
   "nbconvert_exporter": "python",
   "pygments_lexer": "ipython3",
   "version": "3.9.13"
  }
 },
 "nbformat": 4,
 "nbformat_minor": 5
}