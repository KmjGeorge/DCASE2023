{
 "cells": [
  {
   "cell_type": "code",
   "execution_count": null,
   "outputs": [],
   "source": [
    "import os\n",
    "import pandas as pd\n",
    "\n",
    "load_path = \"G:/datasets/dcase22_task1/TAU-urban-acoustic-scenes-2022-mobile-development/audio/\"\n",
    "\n",
    "meta_csv = \"G:/datasets/dcase22_task1/TAU-urban-acoustic-scenes-2022-mobile-development/meta.csv\"\n",
    "train_csv = \"G:/datasets/dcase22_task1/TAU-urban-acoustic-scenes-2022-mobile-development/evaluation_setup/fold1_train.csv\"\n",
    "# test_csv = \"G:/datasets/dcase22_task1/TAU-urban-acoustic-scenes-2022-mobile-development/evaluation_setup/fold1_test.csv\"\n",
    "# eva_csv = \"G:/datasets/dcase22_task1/TAU-urban-acoustic-scenes-2022-mobile-development/evaluation_setup/fold1_evaluate.csv\"\n",
    "\n",
    "meta_new = \"G:/datasets/dcase22_reassembled/TAU-urban-acoustic-scenes-2022-mobile-development/meta.csv\"\n",
    "train_new = \"G:/datasets/dcase22_reassembled/TAU-urban-acoustic-scenes-2022-mobile-development/evaluation_setup/fold1_train.csv\"\n",
    "# test_new = \"G:/datasets/dcase22_reassembled/TAU-urban-acoustic-scenes-2022-mobile-development/evaluation_setup/fold1_test.csv\"\n",
    "# eva_new = \"G:/datasets/dcase22_reassembled/TAU-urban-acoustic-scenes-2022-mobile-development/evaluation_setup/fold1_evaluate.csv\"\n",
    "\n",
    "\n"
   ],
   "metadata": {
    "collapsed": false,
    "pycharm": {
     "name": "#%%\n"
    }
   }
  },
  {
   "cell_type": "code",
   "execution_count": null,
   "outputs": [],
   "source": [
    "# 处理meta.csv，合成10s音频对应的meta_new\n",
    "meta = pd.read_csv(meta_csv, sep=\"\\t\")\n",
    "meta.head()\n",
    "new_files={}\n",
    "for i, row in meta.iterrows():\n",
    "    arr = row.filename.rsplit(\"-\", 2)\n",
    "    new_files.setdefault(arr[0]+\"-\"+arr[2],[]).append(row.filename)\n",
    "\n",
    "import re\n",
    "filename = []\n",
    "scene_label = []\n",
    "identifier = []\n",
    "source_label = []\n",
    "\n",
    "pattern1 = re.compile(r'audio/[a-z_]*-')\n",
    "pattern2 = re.compile(r'[a-z]*-[0-9]*-')\n",
    "pattern3 = re.compile(r'-[a-zA-Z0-9]*\\.')\n",
    "\n",
    "for key, value in new_files.items():\n",
    "    filename.append(key)\n",
    "    matchStr1 = re.search(pattern1, key)\n",
    "    matchStr2 = re.search(pattern2, key)\n",
    "    matchStr3 = re.search(pattern3, key)\n",
    "    try:\n",
    "        scene_label.append(matchStr1.group().rstrip('-').lstrip('audio').lstrip('/'))\n",
    "        identifier.append(matchStr2.group().rstrip('-'))\n",
    "        source_label.append(matchStr3.group().lstrip('-').rstrip('.'))\n",
    "    except:\n",
    "        print(key)\n",
    "        \n",
    "df = pd.DataFrame({'filename':filename, 'scene_label': scene_label, 'identifier':identifier, 'source_label':source_label})\n",
    "df.to_csv(meta_new,index=False)"
   ],
   "metadata": {
    "collapsed": false,
    "pycharm": {
     "name": "#%%\n"
    }
   }
  },
  {
   "cell_type": "code",
   "execution_count": null,
   "outputs": [],
   "source": [
    "# 处理fold1_train.csv  或 fold1_eva.csv(好像不需要)\n",
    "train = pd.read_csv(train_csv, sep=\"\\t\")\n",
    "train.head()\n",
    "new_files={}\n",
    "for i, row in train.iterrows():\n",
    "    arr = row.filename.rsplit(\"-\", 2)\n",
    "    new_files.setdefault(arr[0]+\"-\"+arr[2],[]).append(row.filename)\n",
    "\n",
    "import re\n",
    "filename = []\n",
    "scene_label = []\n",
    "identifier = []\n",
    "source_label = []\n",
    "\n",
    "pattern1 = re.compile(r'audio/[a-z_]*-')\n",
    "\n",
    "for key, value in new_files.items():\n",
    "    filename.append(key)\n",
    "    matchStr1 = re.search(pattern1, key)\n",
    "    try:\n",
    "        scene_label.append(matchStr1.group().rstrip('-').lstrip('audio').lstrip('/'))\n",
    "    except:\n",
    "        print(key)\n",
    "        \n",
    "df = pd.DataFrame({'filename':filename, 'scene_label': scene_label})\n",
    "df.to_csv(train_new,index=False)"
   ],
   "metadata": {
    "collapsed": false,
    "pycharm": {
     "name": "#%%\n"
    }
   }
  },
  {
   "cell_type": "code",
   "execution_count": 6,
   "id": "fdc97d58",
   "metadata": {
    "pycharm": {
     "name": "#%%\n"
    }
   },
   "outputs": [
    {
     "data": {
      "text/plain": [
       "0        audio/airport-lisbon-1000-40000-a.wav\n",
       "1        audio/airport-prague-1015-40019-a.wav\n",
       "2        audio/airport-prague-1023-40027-a.wav\n",
       "3        audio/airport-prague-1023-40038-a.wav\n",
       "4        audio/airport-prague-1034-40041-a.wav\n",
       "                         ...                  \n",
       "13957     audio/tram-barcelona-180-5570-s3.wav\n",
       "13958      audio/tram-helsinki-184-5738-s3.wav\n",
       "13959      audio/tram-lisbon-1131-43892-s3.wav\n",
       "13960        audio/tram-london-188-5815-s3.wav\n",
       "13961        audio/tram-lyon-1112-41171-s3.wav\n",
       "Name: filename, Length: 13962, dtype: object"
      ]
     },
     "execution_count": 6,
     "metadata": {},
     "output_type": "execute_result"
    }
   ],
   "source": [
    "import pandas as pd\n",
    "meta_new = pd.read_csv(train_new)\n",
    "# meta_new.head()\n",
    "meta_new['filename']"
   ]
  }
 ],
 "metadata": {
  "kernelspec": {
   "display_name": "dcase22_t1_jupyter",
   "language": "python",
   "name": "dcase22_t1_jupyter"
  },
  "language_info": {
   "codemirror_mode": {
    "name": "ipython",
    "version": 3
   },
   "file_extension": ".py",
   "mimetype": "text/x-python",
   "name": "python",
   "nbconvert_exporter": "python",
   "pygments_lexer": "ipython3",
   "version": "3.7.10"
  }
 },
 "nbformat": 4,
 "nbformat_minor": 5
}